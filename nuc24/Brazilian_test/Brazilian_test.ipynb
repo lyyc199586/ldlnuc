{
  "cells": [
    {
      "cell_type": "markdown",
      "metadata": {
        "id": "rRbcmrlS_fs-"
      },
      "source": [
        "## Adding the Dolfinx library to the colab environment"
      ]
    },
    {
      "cell_type": "code",
      "execution_count": null,
      "metadata": {
        "id": "g7uH3LaG_Ygf"
      },
      "outputs": [],
      "source": [
        " !wget \"https://fem-on-colab.github.io/releases/fenicsx-install-real.sh\" -O \"/tmp/fenicsx-install.sh\" && bash \"/tmp/fenicsx-install.sh\""
      ]
    },
    {
      "cell_type": "markdown",
      "metadata": {
        "id": "O-u3FiGS_jU-"
      },
      "source": [
        "## Adding the Gmsh library to the colab environment"
      ]
    },
    {
      "cell_type": "code",
      "execution_count": null,
      "metadata": {
        "id": "4Rho6KG1_jnG"
      },
      "outputs": [],
      "source": [
        "!wget \"https://fem-on-colab.github.io/releases/gmsh-install.sh\" -O \"/tmp/gmsh-install.sh\" && bash \"/tmp/gmsh-install.sh\""
      ]
    },
    {
      "cell_type": "markdown",
      "metadata": {
        "id": "zcM0zawa_q9e"
      },
      "source": [
        "## Importing the required libraries"
      ]
    },
    {
      "cell_type": "code",
      "execution_count": null,
      "metadata": {
        "id": "URC2eUqO_pRo"
      },
      "outputs": [],
      "source": [
        "from mpi4py import MPI\n",
        "from dolfinx import mesh, fem, io, plot, nls, log, geometry, la\n",
        "from dolfinx import cpp as _cpp\n",
        "from dolfinx import default_real_type\n",
        "import basix\n",
        "import dolfinx.fem.petsc\n",
        "import ufl\n",
        "import numpy as np\n",
        "from petsc4py.PETSc import ScalarType\n",
        "from petsc4py import PETSc\n",
        "import time\n",
        "import os\n",
        "import gmsh\n",
        "\n",
        "log.set_log_level(log.LogLevel.ERROR)\n",
        "comm = MPI.COMM_WORLD\n",
        "comm_rank = MPI.COMM_WORLD.rank"
      ]
    },
    {
      "cell_type": "markdown",
      "metadata": {
        "id": "8doXQx9n_ur_"
      },
      "source": [
        "## Setting material properties and geometry dimensions\n"
      ]
    },
    {
      "cell_type": "code",
      "execution_count": null,
      "metadata": {
        "id": "En_pCxPx_u9g"
      },
      "outputs": [],
      "source": [
        "# Material properties\n",
        "E, nu = ScalarType(100000), ScalarType(0.2)  # Young's modulus and Poisson's ratio\n",
        "mu, lmbda, kappa = (\n",
        "    E / (2 * (1 + nu)),\n",
        "    E * nu / ((1 + nu) * (1 - 2 * nu)),\n",
        "    E / (3 * (1 - 2 * nu)),\n",
        ")\n",
        "Gc = ScalarType(1)  # Critical energy release rate\n",
        "sts, scs = ScalarType(200), ScalarType(\n",
        "    1000\n",
        ")  # Tensile strength and compressive strength\n",
        "shs = (2 / 3) * sts * scs / (scs - sts)\n",
        "Wts = sts**2 / (2 * E)\n",
        "Whs = shs**2 / (2 * kappa)\n",
        "\n",
        "\n",
        "# Irwin characteristic length\n",
        "lch = 3 * Gc * E / 8 / (sts**2)\n",
        "# The regularization length\n",
        "eps = 0.25  # epsilon should not be chosen to be too large compared to lch. Typically eps<4*lch should work\n",
        "\n",
        "h = eps / 5\n",
        "\n",
        "delta = (1 + 3 * h / (8 * eps)) ** (-2) * (\n",
        "    (sts + (1 + 2 * np.sqrt(3)) * shs) / ((8 + 3 * np.sqrt(3)) * shs)\n",
        ") * 3 * Gc / (16 * Wts * eps) + (1 + 3 * h / (8 * eps)) ** (-1) * (2 / 5)\n",
        "\n",
        "# Geometry of the Brazilian test\n",
        "Dia = 50\n",
        "Diaeff = Dia * 3"
      ]
    },
    {
      "cell_type": "markdown",
      "metadata": {
        "id": "2V8Mg-5_ALrd"
      },
      "source": [
        "## Generating the mesh and refine to $h=\\frac{ϵ}{5}$\n",
        "We also save the mesh in xdmf format."
      ]
    },
    {
      "cell_type": "code",
      "execution_count": null,
      "metadata": {
        "id": "jwkj7LzrAI4n"
      },
      "outputs": [],
      "source": [
        "gmsh.initialize()\n",
        "gmsh.model.add(\"Brazilian\")\n",
        "gmsh.model.setCurrent(\"Brazilian\")\n",
        "\n",
        "circle_dim_tags = gmsh.model.occ.addDisk(0, 0, 0, Dia / 2, Dia / 2)\n",
        "gmsh.model.occ.synchronize()\n",
        "\n",
        "# Add physical tag 1 for exterior surfaces\n",
        "boundary = gmsh.model.getBoundary([(2, circle_dim_tags)])\n",
        "boundary_ids = [b[1] for b in boundary]\n",
        "gmsh.model.addPhysicalGroup(1, boundary_ids, tag=1)\n",
        "gmsh.model.setPhysicalName(1, 1, \"boundary of circle\")\n",
        "\n",
        "# Add physical tag 2 for the volume\n",
        "volume_entities = [\n",
        "    model[1] for model in gmsh.model.getEntities(2)\n",
        "]  ## here it just choose the main body\n",
        "gmsh.model.addPhysicalGroup(2, volume_entities, tag=2)\n",
        "gmsh.model.setPhysicalName(2, 2, \"circle area\")\n",
        "\n",
        "# Generating Mesh\n",
        "gmsh.option.setNumber(\"Mesh.CharacteristicLengthMin\", h)\n",
        "gmsh.option.setNumber(\"Mesh.CharacteristicLengthMax\", h)\n",
        "gmsh.model.mesh.generate(2)\n",
        "gmsh.model.mesh.setOrder(1)\n",
        "\n",
        "domain, cell_markers, facet_markers = io.gmshio.model_to_mesh(\n",
        "    gmsh.model, comm, comm_rank, gdim=2\n",
        ")\n",
        "\n",
        "gmsh.finalize()\n",
        "\n",
        "\n",
        "with dolfinx.io.XDMFFile(domain.comm, \"refined_mesh.xdmf\", \"w\") as xdmf:\n",
        "    xdmf.write_mesh(domain)"
      ]
    },
    {
      "cell_type": "markdown",
      "metadata": {
        "id": "ukbPENK-AXJV"
      },
      "source": [
        "## Defining the function spaces"
      ]
    },
    {
      "cell_type": "code",
      "execution_count": null,
      "metadata": {
        "id": "LmdhO3uQASsU"
      },
      "outputs": [],
      "source": [
        "# Define function space\n",
        "V = fem.functionspace(domain, (\"CG\", 1, (domain.geometry.dim,)))  # Function space for u\n",
        "Y = fem.functionspace(domain, (\"CG\", 1))  # Function space for z\n",
        "\n",
        "V_plot = fem.functionspace(\n",
        "    domain, (\"CG\", 1, (domain.geometry.dim,))\n",
        ")  # Function space for u_plot"
      ]
    },
    {
      "cell_type": "markdown",
      "metadata": {
        "id": "6A_lh3b3AmPS"
      },
      "source": [
        "## Setting the Dirichlet boundary conditions"
      ]
    },
    {
      "cell_type": "code",
      "execution_count": null,
      "metadata": {
        "id": "oLaa-X86Ahd1"
      },
      "outputs": [],
      "source": [
        "maxdisp = 0.8\n",
        "\n",
        "\n",
        "def loading1(x, t):\n",
        "    R = Dia / 2\n",
        "    Reff = Diaeff / 2\n",
        "    disp = maxdisp\n",
        "    return (\n",
        "        (np.abs(x[0] * x[0] + x[1] * x[1] - R * R) < 1e-4)\n",
        "        & (np.abs(x[0]) < np.sqrt(disp * t * Reff / 2) + 0.03)\n",
        "        & (x[1] > 0)\n",
        "    )\n",
        "\n",
        "\n",
        "def loading2(x, t):\n",
        "    R = Dia / 2\n",
        "    Reff = Diaeff / 2\n",
        "    disp = maxdisp\n",
        "    return (\n",
        "        (np.abs(x[0] * x[0] + x[1] * x[1] - R * R) < 1e-4)\n",
        "        & (np.abs(x[0]) < np.sqrt(disp * t * Reff / 2) + 0.03)\n",
        "        & (x[1] < 0)\n",
        "    )\n",
        "\n",
        "\n",
        "def right(x):\n",
        "    R = Dia / 2\n",
        "    return (abs(x[1] - 0) < 1e-4) & (abs(abs(x[0]) - R) < 1e-4)\n",
        "\n",
        "\n",
        "def top(x):\n",
        "    R = Dia / 2\n",
        "    return (np.abs(np.abs(x[1]) - R) < 1e-4) & (np.abs(x[0] - 0) < 1e-4)\n",
        "\n",
        "\n",
        "def center(x):\n",
        "    return (np.abs(x[1] - 0) < 1e-4) & (np.abs(x[0] - 0) < 1e-4)\n",
        "\n",
        "\n",
        "def outer(x):\n",
        "    return np.abs(x[0]) > 27.0\n",
        "\n",
        "\n",
        "class MyExpression:\n",
        "    def __init__(self):\n",
        "        self.t = 0.0\n",
        "        self.disp = maxdisp\n",
        "        self.R = Diaeff / 2\n",
        "\n",
        "    def eval(self, x):\n",
        "        values = np.zeros((1, x.shape[1]))\n",
        "        values[0, :] = -self.t * self.disp + (x[0] * x[0]) / (2 * self.R)\n",
        "        return values\n",
        "\n",
        "\n",
        "class MyExpression2:\n",
        "    def __init__(self):\n",
        "        self.t = 0.0\n",
        "        self.disp = maxdisp\n",
        "        self.R = Diaeff / 2\n",
        "\n",
        "    def eval(self, x):\n",
        "        values = np.zeros((1, x.shape[1]))\n",
        "        values[0, :] = self.t * self.disp + (x[0] * x[0]) / (2 * self.R)\n",
        "        return values\n",
        "\n",
        "\n",
        "V_1, _ = V.sub(1).collapse()\n",
        "\n",
        "re1 = MyExpression()\n",
        "re1.t = 0\n",
        "c1 = fem.Function(V_1)\n",
        "c1.interpolate(re1.eval)\n",
        "\n",
        "re2 = MyExpression2()\n",
        "re2.t = 0\n",
        "c2 = fem.Function(V_1)\n",
        "c2.interpolate(re2.eval)\n",
        "\n",
        "\n",
        "def loading1_func(y):\n",
        "    def partial_func1(x):\n",
        "        return loading1(x, y)\n",
        "\n",
        "    return partial_func1\n",
        "\n",
        "\n",
        "def loading2_func(y):\n",
        "    def partial_func2(x):\n",
        "        return loading2(x, y)\n",
        "\n",
        "    return partial_func2\n",
        "\n",
        "\n",
        "fdim = domain.topology.dim - 1\n",
        "loading1_facets = mesh.locate_entities_boundary(domain, fdim, loading1_func(0))\n",
        "loading2_facets = mesh.locate_entities_boundary(domain, fdim, loading2_func(0))\n",
        "right_facets = mesh.locate_entities_boundary(domain, fdim, right)\n",
        "top_facets = mesh.locate_entities_boundary(domain, fdim, top)\n",
        "center_facets = mesh.locate_entities(domain, fdim, center)\n",
        "outer_facets = mesh.locate_entities(domain, fdim, outer)\n",
        "\n",
        "\n",
        "dofs_loading1 = fem.locate_dofs_topological((V.sub(1), V_1), fdim, loading1_facets)\n",
        "dofs_loading2 = fem.locate_dofs_topological((V.sub(1), V_1), fdim, loading2_facets)\n",
        "dofs_top = fem.locate_dofs_topological(V.sub(0), fdim, top_facets)\n",
        "dofs_right = fem.locate_dofs_topological(V.sub(1), fdim, right_facets)\n",
        "\n",
        "\n",
        "dofs_outer = fem.locate_dofs_topological(Y, fdim, outer_facets)\n",
        "\n",
        "\n",
        "bcl1 = fem.dirichletbc(c1, dofs_loading1, V.sub(1))\n",
        "bcl2 = fem.dirichletbc(c2, dofs_loading2, V.sub(1))\n",
        "bct = fem.dirichletbc(ScalarType(0), dofs_top, V.sub(0))\n",
        "bcr = fem.dirichletbc(ScalarType(0), dofs_right, V.sub(1))\n",
        "\n",
        "bcs = [bcl1, bcl2, bct]\n",
        "\n",
        "\n",
        "bct_z = fem.dirichletbc(ScalarType(1), dofs_outer, Y)\n",
        "bcs_z = [bct_z]"
      ]
    },
    {
      "cell_type": "markdown",
      "metadata": {
        "id": "PEyjmG6uAuqA"
      },
      "source": [
        "## Defining trial and test functions and the normal vector to the boundary"
      ]
    },
    {
      "cell_type": "code",
      "execution_count": null,
      "metadata": {
        "id": "t0R7OF5AAuSf"
      },
      "outputs": [],
      "source": [
        "metadata = {\"quadrature_degree\": 4}\n",
        "n = ufl.FacetNormal(domain)\n",
        "dx = ufl.Measure(\"dx\", domain=domain, metadata=metadata)\n",
        "\n",
        "# Define functions\n",
        "du = ufl.TrialFunction(V)  # Incremental displacement\n",
        "v = ufl.TestFunction(V)  # Test function\n",
        "u = fem.Function(V, name=\"displacement\")  # Displacement from previous iteration\n",
        "u_inc = fem.Function(V)\n",
        "dz = ufl.TrialFunction(Y)  # Incremental phase field\n",
        "y = ufl.TestFunction(Y)  # Test function\n",
        "z = fem.Function(Y, name=\"phasefield\")  # Phase field from previous iteration\n",
        "z_inc = fem.Function(Y)\n",
        "d = len(u)"
      ]
    },
    {
      "cell_type": "markdown",
      "metadata": {
        "id": "OP1eM3eKBGJA"
      },
      "source": [
        "## Setting the initial conditions"
      ]
    },
    {
      "cell_type": "code",
      "execution_count": null,
      "metadata": {
        "id": "USeqBDYABFlN"
      },
      "outputs": [],
      "source": [
        "##############################################################\n",
        "# Initialisation of displacement field,u and the phase field,z\n",
        "##############################################################\n",
        "\n",
        "u.x.array[:] = 0.0\n",
        "fem.petsc.set_bc(u.vector, bcs)\n",
        "\n",
        "\n",
        "z.x.array[:] = 1.0\n",
        "fem.petsc.set_bc(z.vector, bcs_z)\n",
        "\n",
        "\n",
        "u_prev = fem.Function(V)\n",
        "u_prev.x.array[:] = u.x.array\n",
        "z_prev = fem.Function(Y)\n",
        "z_prev.x.array[:] = z.x.array\n",
        "z_trial = fem.Function(Y)\n",
        "z_trial.x.array[:] = z.x.array\n",
        "zdif = fem.Function(Y)\n",
        "zdif.x.array[:] = 0\n",
        "\n",
        "y_dofs_top = fem.locate_dofs_topological(V.sub(1), fdim, loading1_facets)"
      ]
    },
    {
      "cell_type": "markdown",
      "metadata": {
        "id": "UlbXV5_bBP-G"
      },
      "source": [
        "## Defining a function to do a interpolation for any field"
      ]
    },
    {
      "cell_type": "code",
      "execution_count": null,
      "metadata": {
        "id": "W-nvDSZtBLtN"
      },
      "outputs": [],
      "source": [
        "def local_project(v, V):\n",
        "    \"\"\"[summary]\n",
        "        Helper function to do a interpolation\n",
        "    Args:\n",
        "        v ([dolfin.Funcion]): [function to be projected]\n",
        "        V ([dolfin.Function]): [target `dolfin.FunctionSpace` to be projected on]\n",
        "\n",
        "    Returns:\n",
        "        [dolfin.Function]: [target function after projection]\n",
        "    \"\"\"\n",
        "    expr = fem.Expression(v, V.element.interpolation_points())\n",
        "    u = fem.Function(V)\n",
        "    u.interpolate(expr)\n",
        "    return u"
      ]
    },
    {
      "cell_type": "markdown",
      "metadata": {
        "id": "GqwF2ZgfBSFI"
      },
      "source": [
        "## Defining a function to evaluate any field in parallel"
      ]
    },
    {
      "cell_type": "code",
      "execution_count": null,
      "metadata": {
        "id": "BXEgInnxBTHO"
      },
      "outputs": [],
      "source": [
        "def adjust_array_shape(input_array):\n",
        "    if input_array.shape == (2,):  # Check if the shape is (2,)\n",
        "        adjusted_array = np.append(input_array, 0.0)  # Append 0.0 to the array\n",
        "        return adjusted_array\n",
        "    else:\n",
        "        return input_array\n",
        "\n",
        "\n",
        "bb_tree = geometry.bb_tree(domain, domain.topology.dim)\n",
        "\n",
        "\n",
        "def evaluate_function(u, x):\n",
        "    \"\"\"[summary]\n",
        "        Helps evaluated a function at a point `x` in parallel\n",
        "    Args:\n",
        "        u ([dolfin.Function]): [function to be evaluated]\n",
        "        x ([Union(tuple, list, numpy.ndarray)]): [point at which to evaluate function `u`]\n",
        "\n",
        "    Returns:\n",
        "        [numpy.ndarray]: [function evaluated at point `x`]\n",
        "    \"\"\"\n",
        "\n",
        "    if isinstance(x, np.ndarray):\n",
        "        # If x is already a NumPy array\n",
        "        points0 = x\n",
        "    elif isinstance(x, (tuple, list)):\n",
        "        # If x is a tuple or list, convert it to a NumPy array\n",
        "        points0 = np.array(x)\n",
        "    else:\n",
        "        # Handle the case if x is of an unsupported type\n",
        "        points0 = None\n",
        "\n",
        "    points = adjust_array_shape(points0)\n",
        "\n",
        "    u_value = []\n",
        "\n",
        "    cells = []\n",
        "    # Find cells whose bounding-box collide with the the points\n",
        "    cell_candidates = geometry.compute_collisions_points(bb_tree, points)\n",
        "    # Choose one of the cells that contains the point\n",
        "    colliding_cells = geometry.compute_colliding_cells(domain, cell_candidates, points)\n",
        "\n",
        "    if len(colliding_cells.links(0)) > 0:\n",
        "        u_value = u.eval(points, colliding_cells.links(0)[0])\n",
        "        u_value = domain.comm.gather(u_value, root=0)\n",
        "\n",
        "    return u_value[0]"
      ]
    },
    {
      "cell_type": "markdown",
      "metadata": {
        "id": "Z6Lv2SwgBlL9"
      },
      "source": [
        "## Defining Strain Energy, strain and stress functions\n",
        "We also add the balance of linear momentum"
      ]
    },
    {
      "cell_type": "code",
      "execution_count": null,
      "metadata": {
        "id": "H6dMuJq2BlAI"
      },
      "outputs": [],
      "source": [
        "##Strain Energy, strain and stress functions in linear isotropic elasticity (plane stress)\n",
        "\n",
        "\n",
        "def energy(v):\n",
        "    return (\n",
        "        mu\n",
        "        * (\n",
        "            ufl.inner(ufl.sym(ufl.grad(v)), ufl.sym(ufl.grad(v)))\n",
        "            + ((nu / (1 - nu)) ** 2) * (ufl.tr(ufl.sym(ufl.grad(v)))) ** 2\n",
        "        )\n",
        "        + 0.5 * (lmbda) * (ufl.tr(ufl.sym(ufl.grad(v))) * (1 - 2 * nu) / (1 - nu)) ** 2\n",
        "    )\n",
        "\n",
        "\n",
        "def epsilon(v):\n",
        "    return ufl.sym(ufl.grad(v))\n",
        "\n",
        "\n",
        "def sigma(v):\n",
        "    return 2.0 * mu * ufl.sym(ufl.grad(v)) + (lmbda) * ufl.tr(ufl.sym(ufl.grad(v))) * (\n",
        "        1 - 2 * nu\n",
        "    ) / (1 - nu) * ufl.Identity(len(v))\n",
        "\n",
        "\n",
        "def sigmavm(sig, v):\n",
        "    return ufl.sqrt(\n",
        "        1\n",
        "        / 2\n",
        "        * (\n",
        "            ufl.inner(\n",
        "                sig - 1 / 3 * ufl.tr(sig) * ufl.Identity(len(v)),\n",
        "                sig - 1 / 3 * ufl.tr(sig) * ufl.Identity(len(v)),\n",
        "            )\n",
        "            + (1 / 9) * ufl.tr(sig) ** 2\n",
        "        )\n",
        "    )\n",
        "\n",
        "\n",
        "eta = 1e-6\n",
        "# Stored strain energy density\n",
        "psi1 = (z**2 + eta) * (energy(u))\n",
        "psi11 = 2 * z * energy(u)\n",
        "# Total potential energy\n",
        "Pi = psi1 * dx\n",
        "# Compute first variation of Pi (directional derivative about u in the direction of v)\n",
        "R = ufl.derivative(Pi, u, v)\n",
        "# Compute Jacobian of R\n",
        "Jac = ufl.derivative(R, u, du)\n",
        "Jac3 = ufl.inner(ufl.grad(du), ufl.grad(v)) * dx"
      ]
    },
    {
      "cell_type": "markdown",
      "metadata": {
        "id": "DVt2Qi7dCI6Y"
      },
      "source": [
        "## Defining the external force $c_{e}$ in the phase-field equation"
      ]
    },
    {
      "cell_type": "code",
      "execution_count": null,
      "metadata": {
        "id": "0Mj96L8UCAm_"
      },
      "outputs": [],
      "source": [
        "I1 = (z**2) * ufl.tr(sigma(u))\n",
        "SQJ2 = (z**2) * sigmavm(sigma(u), u)\n",
        "\n",
        "alpha1 = (delta * Gc) / (shs * 8 * eps) - (2 * Whs) / (3 * shs)\n",
        "alpha2 = (\n",
        "    (3**0.5 * (3 * shs - sts) * delta * Gc) / (shs * sts * 8 * eps)\n",
        "    + (2 * Whs) / (3**0.5 * shs)\n",
        "    - (2 * 3**0.5 * Wts) / (sts)\n",
        ")\n",
        "\n",
        "ce = alpha2 * SQJ2 + alpha1 * I1 - z * (1 - ufl.sqrt(I1**2) / I1) * psi11"
      ]
    },
    {
      "cell_type": "markdown",
      "metadata": {
        "id": "bfo7W5bWCKYN"
      },
      "source": [
        "## Weak form of PDE for phase-field"
      ]
    },
    {
      "cell_type": "code",
      "execution_count": null,
      "metadata": {
        "id": "EMWpV264CKJW"
      },
      "outputs": [],
      "source": [
        "# Weak form of PDE for phase-field\n",
        "pen = 1000 * (3 * Gc / 8 / eps) * ufl.conditional(ufl.lt(delta, 1), 1, delta)\n",
        "Wv = pen / 2 * ((abs(z) - z) ** 2 + (abs(1 - z) - (1 - z)) ** 2) * dx\n",
        "Wv2 = (\n",
        "    ufl.conditional(ufl.le(z, 0.1), 1, 0)\n",
        "    * 100\n",
        "    * pen\n",
        "    / 2\n",
        "    * ((1 / 4) * (abs(z_prev - z) - (z_prev - z)) * 2)\n",
        "    * dx\n",
        ")\n",
        "R_z = (\n",
        "    y * 2 * z * (psi11) * dx\n",
        "    + y * (ce) * dx\n",
        "    + 3\n",
        "    * delta\n",
        "    * Gc\n",
        "    / 8\n",
        "    * (-y / eps + 2 * eps * ufl.inner(ufl.grad(z), ufl.grad(y)))\n",
        "    * dx\n",
        "    + ufl.derivative(Wv, z, y)\n",
        "    + ufl.derivative(Wv2, z, y)\n",
        ")\n",
        "\n",
        "# Compute Jacobian of R_z\n",
        "Jac_z = ufl.derivative(R_z, z, dz)"
      ]
    },
    {
      "cell_type": "markdown",
      "metadata": {
        "id": "w9dxFJSkCY3e"
      },
      "source": [
        "## Defining a class for solving nonlinear PDE problem"
      ]
    },
    {
      "cell_type": "code",
      "execution_count": null,
      "metadata": {
        "id": "pycO1IFjCYhu"
      },
      "outputs": [],
      "source": [
        "class NonlinearPDEProblem:\n",
        "    \"\"\"Nonlinear problem class for a PDE problem.\"\"\"\n",
        "\n",
        "    def __init__(self, F, u, bc, J):\n",
        "        # V = u.function_space\n",
        "        # du = TrialFunction(V)\n",
        "        self.L = fem.form(F)\n",
        "        self.a = fem.form(J)\n",
        "        self.bc = bc\n",
        "\n",
        "    def form(self, x):\n",
        "        x.ghostUpdate(addv=PETSc.InsertMode.INSERT, mode=PETSc.ScatterMode.FORWARD)\n",
        "\n",
        "    def F(self, x, b):\n",
        "        \"\"\"Assemble residual vector.\"\"\"\n",
        "        with b.localForm() as b_local:\n",
        "            b_local.set(0.0)\n",
        "        fem.petsc.assemble_vector(b, self.L)\n",
        "        fem.petsc.apply_lifting(b, [self.a], bcs=[self.bc], x0=[x], scale=-1.0)\n",
        "        b.ghostUpdate(addv=PETSc.InsertMode.ADD, mode=PETSc.ScatterMode.REVERSE)\n",
        "        fem.petsc.set_bc(b, self.bc, x, -1.0)\n",
        "\n",
        "    def J(self, x, A):\n",
        "        \"\"\"Assemble Jacobian matrix.\"\"\"\n",
        "        A.zeroEntries()\n",
        "        fem.petsc.assemble_matrix(A, self.a, bcs=self.bc)\n",
        "        A.assemble()\n",
        "\n",
        "    def matrix(self):\n",
        "        return fem.petsc.create_matrix(self.a)\n",
        "\n",
        "    def vector(self):\n",
        "        return fem.petsc.create_vector(self.L)"
      ]
    },
    {
      "cell_type": "markdown",
      "metadata": {
        "id": "IkWQyD6HCgZQ"
      },
      "source": [
        "## Setting the time step parameters"
      ]
    },
    {
      "cell_type": "code",
      "execution_count": null,
      "metadata": {
        "id": "FoFIN4XTCgIj"
      },
      "outputs": [],
      "source": [
        "# time-stepping parameters\n",
        "T = 1\n",
        "Totalsteps = 500\n",
        "startstepsize = 1 / Totalsteps\n",
        "stepsize = startstepsize\n",
        "t = stepsize\n",
        "step = 1\n",
        "rtol = 1e-8\n",
        "printsteps = 10\n",
        "\n",
        "samesizecount = 1\n",
        "# other time stepping parameters\n",
        "terminate = 0\n",
        "terminate2 = 0\n",
        "minstepsize = startstepsize / 10000\n",
        "maxstepsize = startstepsize"
      ]
    },
    {
      "cell_type": "markdown",
      "metadata": {
        "id": "LIvQJc6XCngu"
      },
      "source": [
        "## Creating Newton solvers and their customizations"
      ]
    },
    {
      "cell_type": "code",
      "execution_count": null,
      "metadata": {
        "id": "nxNgoHCZCnTv"
      },
      "outputs": [],
      "source": [
        "# Create nonlinear problem\n",
        "problem_u = NonlinearPDEProblem(R, u, bcs, Jac)\n",
        "\n",
        "# Create Newton solver and solve\n",
        "\n",
        "solver = _cpp.nls.petsc.NewtonSolver(MPI.COMM_WORLD)\n",
        "solver.setF(problem_u.F, problem_u.vector())\n",
        "solver.setJ(problem_u.J, problem_u.matrix())\n",
        "solver.set_form(problem_u.form)\n",
        "solver.max_it = 10\n",
        "# solver.convergence_criterion = \"incremental\"\n",
        "solver.error_on_nonconvergence = False\n",
        "solver.atol = 1.0e-8\n",
        "solver.rtol = 1.0e-7\n",
        "\n",
        "ksp1 = solver.krylov_solver\n",
        "opts = PETSc.Options()  # type: ignore\n",
        "option_prefix = ksp1.getOptionsPrefix()\n",
        "opts[f\"{option_prefix}ksp_type\"] = \"cg\"\n",
        "opts[f\"{option_prefix}pc_type\"] = \"gamg\"\n",
        "\n",
        "# Create nonlinear problem\n",
        "problem_z = NonlinearPDEProblem(R_z, z, bcs_z, Jac_z)\n",
        "\n",
        "# Create Newton solver and solve\n",
        "\n",
        "solver_z = _cpp.nls.petsc.NewtonSolver(MPI.COMM_WORLD)\n",
        "solver_z.setF(problem_z.F, problem_z.vector())\n",
        "solver_z.setJ(problem_z.J, problem_z.matrix())\n",
        "solver_z.set_form(problem_z.form)\n",
        "solver_z.max_it = 10\n",
        "# solver_z.convergence_criterion = \"incremental\"\n",
        "solver_z.error_on_nonconvergence = False\n",
        "solver_z.atol = 1.0e-8\n",
        "solver_z.rtol = 1.0e-7\n",
        "\n",
        "\n",
        "ksp2 = solver_z.krylov_solver\n",
        "opts = PETSc.Options()  # type: ignore\n",
        "option_prefix = ksp2.getOptionsPrefix()\n",
        "opts[f\"{option_prefix}ksp_type\"] = \"cg\"\n",
        "opts[f\"{option_prefix}pc_type\"] = \"gamg\""
      ]
    },
    {
      "cell_type": "markdown",
      "metadata": {
        "id": "QB31_xC_Cwfw"
      },
      "source": [
        "## Solving the problem over several time steps via a staggered scheme"
      ]
    },
    {
      "cell_type": "code",
      "execution_count": null,
      "metadata": {
        "colab": {
          "background_save": true,
          "base_uri": "https://localhost:8080/"
        },
        "id": "EFxqjzoICwRW",
        "outputId": "a9b74708-4c01-4ee8-9e80-2afad96f565a"
      },
      "outputs": [
        {
          "name": "stdout",
          "output_type": "stream",
          "text": [
            "Step= 1 t= 0.002000 Stepsize= 2.000000e-03\n",
            "1.0002065134172808\n",
            "--- 43.27744460105896 seconds ---\n",
            "Iteration number for u= 1 Residual= 4.164805e+01\n",
            "Iteration number for z= 1 Residual= 1.190823e-01\n"
          ]
        },
        {
          "ename": "KeyboardInterrupt",
          "evalue": "",
          "output_type": "error",
          "traceback": [
            "\u001b[0;31m---------------------------------------------------------------------------\u001b[0m",
            "\u001b[0;31mKeyboardInterrupt\u001b[0m                         Traceback (most recent call last)",
            "\u001b[0;32m<ipython-input-18-7c78f62ad9ae>\u001b[0m in \u001b[0;36m<cell line: 1>\u001b[0;34m()\u001b[0m\n\u001b[1;32m     34\u001b[0m         \u001b[0;31m# PDE for u\u001b[0m\u001b[0;34m\u001b[0m\u001b[0;34m\u001b[0m\u001b[0m\n\u001b[1;32m     35\u001b[0m         \u001b[0;31m##############################################################\u001b[0m\u001b[0;34m\u001b[0m\u001b[0;34m\u001b[0m\u001b[0m\n\u001b[0;32m---> 36\u001b[0;31m         \u001b[0msolver\u001b[0m\u001b[0;34m.\u001b[0m\u001b[0msolve\u001b[0m\u001b[0;34m(\u001b[0m\u001b[0mu\u001b[0m\u001b[0;34m.\u001b[0m\u001b[0mvector\u001b[0m\u001b[0;34m)\u001b[0m\u001b[0;34m\u001b[0m\u001b[0;34m\u001b[0m\u001b[0m\n\u001b[0m\u001b[1;32m     37\u001b[0m         \u001b[0mu\u001b[0m\u001b[0;34m.\u001b[0m\u001b[0mx\u001b[0m\u001b[0;34m.\u001b[0m\u001b[0mscatter_forward\u001b[0m\u001b[0;34m(\u001b[0m\u001b[0;34m)\u001b[0m\u001b[0;34m\u001b[0m\u001b[0;34m\u001b[0m\u001b[0m\n\u001b[1;32m     38\u001b[0m         \u001b[0mz_trial\u001b[0m\u001b[0;34m.\u001b[0m\u001b[0mx\u001b[0m\u001b[0;34m.\u001b[0m\u001b[0marray\u001b[0m\u001b[0;34m[\u001b[0m\u001b[0;34m:\u001b[0m\u001b[0;34m]\u001b[0m \u001b[0;34m=\u001b[0m \u001b[0mz\u001b[0m\u001b[0;34m.\u001b[0m\u001b[0mx\u001b[0m\u001b[0;34m.\u001b[0m\u001b[0marray\u001b[0m\u001b[0;34m\u001b[0m\u001b[0;34m\u001b[0m\u001b[0m\n",
            "\u001b[0;32m<ipython-input-15-ec5eeef5e1ac>\u001b[0m in \u001b[0;36mform\u001b[0;34m(self, x)\u001b[0m\n\u001b[1;32m      9\u001b[0m         \u001b[0mself\u001b[0m\u001b[0;34m.\u001b[0m\u001b[0mbc\u001b[0m \u001b[0;34m=\u001b[0m \u001b[0mbc\u001b[0m\u001b[0;34m\u001b[0m\u001b[0;34m\u001b[0m\u001b[0m\n\u001b[1;32m     10\u001b[0m \u001b[0;34m\u001b[0m\u001b[0m\n\u001b[0;32m---> 11\u001b[0;31m     \u001b[0;32mdef\u001b[0m \u001b[0mform\u001b[0m\u001b[0;34m(\u001b[0m\u001b[0mself\u001b[0m\u001b[0;34m,\u001b[0m \u001b[0mx\u001b[0m\u001b[0;34m)\u001b[0m\u001b[0;34m:\u001b[0m\u001b[0;34m\u001b[0m\u001b[0;34m\u001b[0m\u001b[0m\n\u001b[0m\u001b[1;32m     12\u001b[0m         \u001b[0mx\u001b[0m\u001b[0;34m.\u001b[0m\u001b[0mghostUpdate\u001b[0m\u001b[0;34m(\u001b[0m\u001b[0maddv\u001b[0m\u001b[0;34m=\u001b[0m\u001b[0mPETSc\u001b[0m\u001b[0;34m.\u001b[0m\u001b[0mInsertMode\u001b[0m\u001b[0;34m.\u001b[0m\u001b[0mINSERT\u001b[0m\u001b[0;34m,\u001b[0m \u001b[0mmode\u001b[0m\u001b[0;34m=\u001b[0m\u001b[0mPETSc\u001b[0m\u001b[0;34m.\u001b[0m\u001b[0mScatterMode\u001b[0m\u001b[0;34m.\u001b[0m\u001b[0mFORWARD\u001b[0m\u001b[0;34m)\u001b[0m\u001b[0;34m\u001b[0m\u001b[0;34m\u001b[0m\u001b[0m\n\u001b[1;32m     13\u001b[0m \u001b[0;34m\u001b[0m\u001b[0m\n",
            "\u001b[0;31mKeyboardInterrupt\u001b[0m: "
          ]
        }
      ],
      "source": [
        "while t - stepsize < T:\n",
        "\n",
        "    terminate = 0\n",
        "\n",
        "    if comm_rank == 0:\n",
        "        print(\"Step= %d\" % step, \"t= %f\" % t, \"Stepsize= %e\" % stepsize)\n",
        "\n",
        "    re1.t = t\n",
        "    c1.interpolate(re1.eval)\n",
        "    re2.t = t\n",
        "    c2.interpolate(re2.eval)\n",
        "    loading1_facets = mesh.locate_entities_boundary(domain, fdim, loading1_func(t))\n",
        "    loading2_facets = mesh.locate_entities_boundary(domain, fdim, loading2_func(t))\n",
        "    dofs_loading1 = fem.locate_dofs_topological((V.sub(1), V_1), fdim, loading1_facets)\n",
        "    dofs_loading2 = fem.locate_dofs_topological((V.sub(1), V_1), fdim, loading2_facets)\n",
        "    bcl1 = fem.dirichletbc(c1, dofs_loading1, V.sub(1))\n",
        "    bcl2 = fem.dirichletbc(c2, dofs_loading2, V.sub(1))\n",
        "    bct = fem.dirichletbc(ScalarType(0), dofs_top, V.sub(0))\n",
        "    bcr = fem.dirichletbc(ScalarType(0), dofs_right, V.sub(1))\n",
        "\n",
        "    problem_u.bc = [bcl1, bcl2, bct]\n",
        "\n",
        "    y_dofs_top = fem.locate_dofs_topological(V.sub(1), fdim, loading1_facets)\n",
        "    stag_iter = 1\n",
        "    rnorm_stag = 1\n",
        "    norm_z = 1\n",
        "    while stag_iter < 50 and norm_z > 1e-7:\n",
        "        start_time = time.time()\n",
        "        ##############################################################\n",
        "        # PDE for u\n",
        "        ##############################################################\n",
        "        solver.solve(u.vector)\n",
        "        u.x.scatter_forward()\n",
        "        z_trial.x.array[:] = z.x.array\n",
        "        ##############################################################\n",
        "        # PDE for z\n",
        "        ##############################################################\n",
        "        solver_z.solve(z.vector)\n",
        "        z.x.scatter_forward()\n",
        "        ##############################################################\n",
        "\n",
        "        zmin = domain.comm.allreduce(np.min(z.x.array), op=MPI.MIN)\n",
        "\n",
        "        if comm_rank == 0:\n",
        "            print(zmin)\n",
        "\n",
        "        if comm_rank == 0:\n",
        "            print(\"--- %s seconds ---\" % (time.time() - start_time))\n",
        "\n",
        "        ###############################################################\n",
        "        # Residual check for stag loop\n",
        "        ###############################################################\n",
        "        b_e = fem.petsc.assemble_vector(fem.form(-R))\n",
        "        fint = b_e.copy()\n",
        "        fem.petsc.set_bc(b_e, bcs)\n",
        "\n",
        "        rnorm_stag = b_e.norm()\n",
        "        zdif.x.array[:] = z.x.array - z_trial.x.array\n",
        "        norm_z = zdif.x.norm()\n",
        "        if comm_rank == 0:\n",
        "            print(\"Iteration number for u= %d\" % stag_iter, \"Residual= %e\" % rnorm_stag)\n",
        "            print(\"Iteration number for z= %d\" % stag_iter, \"Residual= %e\" % norm_z)\n",
        "        stag_iter += 1\n",
        "\n",
        "    ########### Post-processing ##############\n",
        "\n",
        "    if terminate == 1:\n",
        "        u.x.array[:] = u_prev.x.array\n",
        "        z.x.array[:] = z_prev.x.array\n",
        "    else:\n",
        "        u_prev.x.array[:] = u.x.array\n",
        "        z_prev.x.array[:] = z.x.array\n",
        "\n",
        "        ####Calculate Reaction\n",
        "        Fx = domain.comm.allreduce(np.sum(b_e[y_dofs_top]), op=MPI.SUM)\n",
        "        z_x = evaluate_function(z, (0.0, 0.0))\n",
        "\n",
        "        if comm_rank == 0:\n",
        "            print(Fx)\n",
        "            print(z_x)\n",
        "            with open(\"PF_R15S5_formula.txt\", \"a\") as rfile:\n",
        "                rfile.write(\"%s %s %s\\n\" % (str(t), str(zmin), str(Fx)))\n",
        "\n",
        "        if step % printsteps == 0:\n",
        "            u.name = \"Deformation\"\n",
        "            z.name = \"phasefield\"\n",
        "            with io.XDMFFile(\n",
        "                domain.comm, \"paraview/2D_Ratio40checkeps2_\" + str(step) + \".xdmf\", \"w\"\n",
        "            ) as file_results:\n",
        "                file_results.write_mesh(domain)\n",
        "                file_results.write_function(u, t)\n",
        "                file_results.write_function(z, t)\n",
        "\n",
        "    # time stepping\n",
        "    if terminate == 1:\n",
        "        if stepsize > minstepsize:\n",
        "            t -= stepsize\n",
        "            stepsize /= 2\n",
        "            t += stepsize\n",
        "            samesizecount = 1\n",
        "        else:\n",
        "            break\n",
        "    else:\n",
        "        if samesizecount < 2:\n",
        "            step += 1\n",
        "            if t + stepsize <= T:\n",
        "                samesizecount += 1\n",
        "                t += stepsize\n",
        "            else:\n",
        "                samesizecount = 1\n",
        "                stepsize = T - t\n",
        "                t += stepsize\n",
        "        else:\n",
        "            step += 1\n",
        "            if stepsize * 2 <= maxstepsize and t + stepsize * 2 <= T:\n",
        "                stepsize *= 2\n",
        "                t += stepsize\n",
        "            elif stepsize * 2 > maxstepsize and t + maxstepsize <= T:\n",
        "                stepsize = maxstepsize\n",
        "                t += stepsize\n",
        "            else:\n",
        "                stepsize = T - t\n",
        "                t += stepsize\n",
        "                samesizecount = 1"
      ]
    }
  ],
  "metadata": {
    "colab": {
      "provenance": []
    },
    "kernelspec": {
      "display_name": "Python 3",
      "name": "python3"
    },
    "language_info": {
      "name": "python"
    }
  },
  "nbformat": 4,
  "nbformat_minor": 0
}
